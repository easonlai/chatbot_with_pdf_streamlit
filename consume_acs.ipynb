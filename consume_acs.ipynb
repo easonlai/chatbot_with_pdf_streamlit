{
 "cells": [
  {
   "cell_type": "code",
   "execution_count": 1,
   "metadata": {},
   "outputs": [],
   "source": [
    "# Import necessary libraries\n",
    "# pip install azure-search-documents==11.4.0b6\n",
    "import openai\n",
    "from langchain.document_loaders import DirectoryLoader\n",
    "from langchain.embeddings.openai import OpenAIEmbeddings\n",
    "from langchain.text_splitter import CharacterTextSplitter\n",
    "from langchain.vectorstores.azuresearch import AzureSearch\n",
    "from langchain.chains.question_answering import load_qa_chain\n",
    "from langchain.llms import AzureOpenAI\n",
    "from azure.core.credentials import AzureKeyCredential"
   ]
  },
  {
   "cell_type": "code",
   "execution_count": 2,
   "metadata": {},
   "outputs": [],
   "source": [
    "# Configure the baseline configuration of the OpenAI library for Azure OpenAI Service & Azure Cognitive Search.\n",
    "OPENAI_API_KEY = \"PLEASE_ENTER_YOUR_OWNED_AOAI_SERVICE_KEY\"\n",
    "OPENAI_API_BASE = \"https://PLESAE_ENTER_YOUR_OWNED_AOAI_RESOURCE_NAME.openai.azure.com/\"\n",
    "OPENAI_DEPLOYMENT_NAME = \"PLEASE_ENTER_YOUR_OWNED_AOAI_GPT_MODEL_NAME\"\n",
    "OPENAI_MODEL_NAME = \"text-davinci-003\"\n",
    "OPENAI_EMBEDDING_DEPLOYMENT_NAME = \"PLEASE_ENTER_YOUR_OWNED_AOAI_EMBEDDING_MODEL_NAME\"\n",
    "OPENAI_EMBEDDING_MODEL_NAME = \"text-embedding-ada-002\"\n",
    "OPENAI_API_VERSION = \"2023-05-15\"\n",
    "OPENAI_API_TYPE = \"azure\"\n",
    "openai.api_key = OPENAI_API_KEY\n",
    "openai.api_base = OPENAI_API_BASE\n",
    "openai.api_version = OPENAI_API_VERSION\n",
    "openai.api_type = OPENAI_API_TYPE\n",
    "AZURE_COGNITIVE_SEARCH_ENDPOINT_NAME = \"https://PLESAE_ENTER_YOUR_OWNED_ACS_RESOURCE_NAME.search.windows.net\"\n",
    "AZURE_COGNITIVE_SEARCH_INDEX_NAME = \"PLEASE_ENTER_YOUR_OWNED_ACS_INDEX_NAME\"\n",
    "AZURE_COGNITIVE_SEARCH_KEY = \"PLEASE_ENTER_YOUR_OWNED_ACS_SERVICE_KEY\"\n",
    "acs_credential = AzureKeyCredential(AZURE_COGNITIVE_SEARCH_KEY)"
   ]
  },
  {
   "cell_type": "code",
   "execution_count": 3,
   "metadata": {},
   "outputs": [],
   "source": [
    "# Define the function to interact with Azure OpenAI Embedding Model.\n",
    "embeddings = OpenAIEmbeddings(deployment=OPENAI_EMBEDDING_DEPLOYMENT_NAME, \n",
    "                                openai_api_key=OPENAI_API_KEY, \n",
    "                                model=OPENAI_EMBEDDING_MODEL_NAME, \n",
    "                                openai_api_type=OPENAI_API_TYPE, \n",
    "                                chunk_size=1)"
   ]
  },
  {
   "cell_type": "code",
   "execution_count": 4,
   "metadata": {},
   "outputs": [],
   "source": [
    "# Define the function interact with Azure Cognitive Search. If the index does not exist, it will be created.\n",
    "vector_store: AzureSearch = AzureSearch(\n",
    "    azure_search_endpoint=AZURE_COGNITIVE_SEARCH_ENDPOINT_NAME,\n",
    "    azure_search_key=AZURE_COGNITIVE_SEARCH_KEY,\n",
    "    index_name=AZURE_COGNITIVE_SEARCH_INDEX_NAME,\n",
    "    embedding_function=embeddings.embed_query,\n",
    ")"
   ]
  },
  {
   "cell_type": "code",
   "execution_count": 5,
   "metadata": {},
   "outputs": [],
   "source": [
    "# Define the query to search for the most similar documents.\n",
    "query = \"Who is the authors of this book?\"\n",
    "docs = vector_store.similarity_search(query)"
   ]
  },
  {
   "cell_type": "code",
   "execution_count": 6,
   "metadata": {},
   "outputs": [
    {
     "data": {
      "text/plain": [
       "4"
      ]
     },
     "execution_count": 6,
     "metadata": {},
     "output_type": "execute_result"
    }
   ],
   "source": [
    "# List the number of documents that are similar to the query.\n",
    "len(docs)"
   ]
  },
  {
   "cell_type": "code",
   "execution_count": 8,
   "metadata": {},
   "outputs": [
    {
     "name": "stdout",
     "output_type": "stream",
     "text": [
      "58 Building a superhero team - Get your teammates to read this\n",
      "\n",
      "Congratulations on finishing this book!\n",
      "\n",
      "In Chapter 2, we talked about how this book can help you become the superhero of your team.\n",
      "\n",
      "The only thing better than being a superhero is being part of a superhero team. I hope you’ll give copies of this book to your friends and teammates and help create other superheroes!\n",
      "\n",
      "Page 118\n",
      "\n",
      "Machine Learning Yearning-Draft\n",
      "\n",
      "Andrew Ng\n"
     ]
    }
   ],
   "source": [
    "# Print the most similar document.\n",
    "print(docs[0].page_content)"
   ]
  },
  {
   "cell_type": "code",
   "execution_count": 9,
   "metadata": {},
   "outputs": [],
   "source": [
    "# Create a Question Answering chain using the embeddings and the similarity search.\n",
    "chain = load_qa_chain(AzureOpenAI(openai_api_key=OPENAI_API_KEY, \n",
    "                                  deployment_name=OPENAI_DEPLOYMENT_NAME, \n",
    "                                  model_name=OPENAI_MODEL_NAME,\n",
    "                                  openai_api_version=OPENAI_API_VERSION),\n",
    "                                  chain_type=\"stuff\")"
   ]
  },
  {
   "cell_type": "code",
   "execution_count": 10,
   "metadata": {},
   "outputs": [
    {
     "data": {
      "text/plain": [
       "' The author of this book is Andrew Ng.'"
      ]
     },
     "execution_count": 10,
     "metadata": {},
     "output_type": "execute_result"
    }
   ],
   "source": [
    "# Perform first sample of question answering.\n",
    "inquiry = \"Who is the author of this book?\"\n",
    "docs = vector_store.similarity_search(inquiry)\n",
    "chain.run(input_documents=docs, question=inquiry)"
   ]
  },
  {
   "cell_type": "code",
   "execution_count": 11,
   "metadata": {},
   "outputs": [
    {
     "data": {
      "text/plain": [
       "' This book is about how to use machine learning to set technical direction for a machine learning project. It provides advice on how to read the clues that machine learning problems leave to save development time. It also provides advice on how to help team members understand why a particular direction is being recommended.'"
      ]
     },
     "execution_count": 11,
     "metadata": {},
     "output_type": "execute_result"
    }
   ],
   "source": [
    "# Perform second sample of question answering.\n",
    "inquiry = \"Please tell me the key summary of this book.\"\n",
    "docs = vector_store.similarity_search(inquiry)\n",
    "chain.run(input_documents=docs, question=inquiry)"
   ]
  }
 ],
 "metadata": {
  "kernelspec": {
   "display_name": "base",
   "language": "python",
   "name": "python3"
  },
  "language_info": {
   "codemirror_mode": {
    "name": "ipython",
    "version": 3
   },
   "file_extension": ".py",
   "mimetype": "text/x-python",
   "name": "python",
   "nbconvert_exporter": "python",
   "pygments_lexer": "ipython3",
   "version": "3.10.9"
  },
  "orig_nbformat": 4
 },
 "nbformat": 4,
 "nbformat_minor": 2
}
