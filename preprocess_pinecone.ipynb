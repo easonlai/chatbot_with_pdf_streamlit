{
 "cells": [
  {
   "cell_type": "code",
   "execution_count": 2,
   "metadata": {},
   "outputs": [],
   "source": [
    "# Import necessary libraries\n",
    "import openai\n",
    "from langchain.document_loaders import DirectoryLoader\n",
    "from langchain.embeddings.openai import OpenAIEmbeddings\n",
    "from langchain.text_splitter import CharacterTextSplitter\n",
    "from langchain.vectorstores import Pinecone\n",
    "import pinecone"
   ]
  },
  {
   "cell_type": "code",
   "execution_count": 3,
   "metadata": {},
   "outputs": [],
   "source": [
    "# Configure the baseline configuration of the OpenAI library for Azure OpenAI Service & Pinecone.\n",
    "OPENAI_API_KEY = \"PLEASE_ENTER_YOUR_OWNED_AOAI_SERVICE_KEY\"\n",
    "OPENAI_API_BASE = \"https://PLESAE_ENTER_YOUR_OWNED_AOAI_RESOURCE_NAME.openai.azure.com/\"\n",
    "OPENAI_EMBEDDING_DEPLOYMENT_NAME = \"PLEASE_ENTER_YOUR_OWNED_AOAI_EMBEDDING_MODEL_NAME\"\n",
    "OPENAI_EMBEDDING_MODEL_NAME = \"text-embedding-ada-002\"\n",
    "OPENAI_API_VERSION = \"2023-05-15\"\n",
    "OPENAI_API_TYPE = \"azure\"\n",
    "openai.api_key = OPENAI_API_KEY\n",
    "openai.api_base = OPENAI_API_BASE\n",
    "openai.api_version = OPENAI_API_VERSION\n",
    "openai.api_type = OPENAI_API_TYPE\n",
    "PINECONE_API_KEY = \"PLEASE_ENTER_YOUR_OWNED_PINECONE_API_KEY\"\n",
    "PINECONE_ENV = \"PLEASE_ENTER_YOUR_OWNED_PINECONE_ENV_NAME\"\n",
    "PINECONE_INDEX_NAME = \"PLEASE_ENTER_YOUR_OWNED_PINECONE_INDEX_NAME\""
   ]
  },
  {
   "cell_type": "code",
   "execution_count": 4,
   "metadata": {},
   "outputs": [],
   "source": [
    "# Create directory loader object to load the data from the directory.\n",
    "pdfLoader = DirectoryLoader('./data/')"
   ]
  },
  {
   "cell_type": "code",
   "execution_count": 6,
   "metadata": {},
   "outputs": [],
   "source": [
    "# Initial the document loader to load the data from the directory.\n",
    "documents = []\n",
    "documents.extend(pdfLoader.load())"
   ]
  },
  {
   "cell_type": "code",
   "execution_count": 7,
   "metadata": {},
   "outputs": [
    {
     "name": "stdout",
     "output_type": "stream",
     "text": [
      "You have 1 document(s) in your data folder.\n"
     ]
    }
   ],
   "source": [
    "# Display the number of documents in the directory.\n",
    "print (f'You have {len(documents)} document(s) in your data folder.')"
   ]
  },
  {
   "cell_type": "code",
   "execution_count": 8,
   "metadata": {},
   "outputs": [
    {
     "name": "stderr",
     "output_type": "stream",
     "text": [
      "Created a chunk of size 1164, which is longer than the specified 1000\n"
     ]
    },
    {
     "name": "stdout",
     "output_type": "stream",
     "text": [
      "203\n"
     ]
    }
   ],
   "source": [
    "# Split the documents into chunks of 1000 characters with 200 characters overlap.\n",
    "text_splitter = CharacterTextSplitter(chunk_size=1000, chunk_overlap=200)\n",
    "documents = text_splitter.split_documents(documents)\n",
    "print(len(documents))"
   ]
  },
  {
   "cell_type": "code",
   "execution_count": 9,
   "metadata": {},
   "outputs": [],
   "source": [
    "# Define the function to interact with Azure OpenAI Embedding Model.\n",
    "embeddings = OpenAIEmbeddings(deployment=OPENAI_EMBEDDING_DEPLOYMENT_NAME, \n",
    "                                openai_api_key=OPENAI_API_KEY, \n",
    "                                model=OPENAI_EMBEDDING_MODEL_NAME, \n",
    "                                openai_api_type=OPENAI_API_TYPE, \n",
    "                                chunk_size=1)"
   ]
  },
  {
   "cell_type": "code",
   "execution_count": 10,
   "metadata": {},
   "outputs": [],
   "source": [
    "# Initialize the Pinecone service.\n",
    "pinecone.init(\n",
    "    api_key=PINECONE_API_KEY,\n",
    "    environment=PINECONE_ENV\n",
    ")\n",
    "\n",
    "# Upload the embeddings to Pinecone.\n",
    "vectorstore = Pinecone.from_documents(documents, embeddings, index_name=PINECONE_INDEX_NAME)"
   ]
  }
 ],
 "metadata": {
  "kernelspec": {
   "display_name": "base",
   "language": "python",
   "name": "python3"
  },
  "language_info": {
   "codemirror_mode": {
    "name": "ipython",
    "version": 3
   },
   "file_extension": ".py",
   "mimetype": "text/x-python",
   "name": "python",
   "nbconvert_exporter": "python",
   "pygments_lexer": "ipython3",
   "version": "3.10.9"
  },
  "orig_nbformat": 4
 },
 "nbformat": 4,
 "nbformat_minor": 2
}
